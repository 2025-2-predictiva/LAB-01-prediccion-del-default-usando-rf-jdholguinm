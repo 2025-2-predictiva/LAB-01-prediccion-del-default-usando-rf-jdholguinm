{
 "cells": [
  {
   "cell_type": "code",
   "execution_count": 22,
   "id": "04266187",
   "metadata": {},
   "outputs": [],
   "source": [
    "import os\n",
    "import pandas as pd\n",
    "import gzip\n",
    "import json\n",
    "import pickle\n",
    "\n",
    "from sklearn.preprocessing import OneHotEncoder\n",
    "from sklearn.compose import ColumnTransformer\n",
    "from sklearn.ensemble import RandomForestClassifier\n",
    "from sklearn.pipeline import Pipeline\n",
    "from sklearn.model_selection import GridSearchCV\n",
    "from sklearn.metrics import confusion_matrix, balanced_accuracy_score, precision_score, recall_score, f1_score"
   ]
  },
  {
   "cell_type": "code",
   "execution_count": 23,
   "id": "5bfdd36f",
   "metadata": {},
   "outputs": [],
   "source": [
    "\"Paso 1: cargar y preprocesar datos\"\n",
    "def cargar_preprocesar_datos():\n",
    "    train_dataset = pd.read_csv(\"../files/input/train_data.csv.zip\", index_col=False)\n",
    "    test_dataset = pd.read_csv(\"../files/input/test_data.csv.zip\", index_col=False)\n",
    "\n",
    "    train_dataset.rename(columns={\"default payment next month\": \"default\"}, inplace=True)\n",
    "    test_dataset.rename(columns={\"default payment next month\": \"default\"}, inplace=True)\n",
    "\n",
    "    train_dataset.drop(columns=\"ID\", inplace=True)\n",
    "    test_dataset.drop(columns=\"ID\", inplace=True)\n",
    "\n",
    "    train_dataset = train_dataset[train_dataset[\"EDUCATION\"] != 0]\n",
    "    test_dataset = test_dataset[test_dataset[\"EDUCATION\"] != 0]\n",
    "\n",
    "    train_dataset = train_dataset[train_dataset[\"MARRIAGE\"] != 0]\n",
    "    test_dataset = test_dataset[test_dataset[\"MARRIAGE\"] != 0]\n",
    "\n",
    "    train_dataset[\"EDUCATION\"] = train_dataset[\"EDUCATION\"].apply(lambda x: 4 if x > 4 else x)\n",
    "    test_dataset[\"EDUCATION\"] = test_dataset[\"EDUCATION\"].apply(lambda x: 4 if x > 4 else x)\n",
    "\n",
    "    return train_dataset, test_dataset"
   ]
  },
  {
   "cell_type": "code",
   "execution_count": 24,
   "id": "452b2f04",
   "metadata": {},
   "outputs": [],
   "source": [
    "\"Paso 2: División de los datos en conjuntos de entrenamiento y prueba\"\n",
    "def make_train_test_split(train_dataset, test_dataset):\n",
    "    X_train = train_dataset.drop(columns=\"default\")\n",
    "    y_train = train_dataset[\"default\"]\n",
    "\n",
    "    X_test = test_dataset.drop(columns=\"default\")\n",
    "    y_test = test_dataset[\"default\"]\n",
    "\n",
    "    return X_train, X_test, y_train, y_test"
   ]
  },
  {
   "cell_type": "code",
   "execution_count": 25,
   "id": "e872e46d",
   "metadata": {},
   "outputs": [],
   "source": [
    "\"Paso 3: Crear el Pipeline y preprocesar las variables categóricas usando OneHotEncoder y las numéricas sin cambios\"\n",
    "def make_pipeline():\n",
    "    categorical_features = [\"EDUCATION\", \"MARRIAGE\", \"SEX\"]\n",
    "\n",
    "    preprocessor = ColumnTransformer(\n",
    "        transformers=[\n",
    "            (\"cat\", OneHotEncoder(), categorical_features),\n",
    "        ],\n",
    "        remainder='passthrough'\n",
    "    )\n",
    "\n",
    "    pipeline = Pipeline([\n",
    "        (\"preprocessor\", preprocessor),\n",
    "        (\"rf\", RandomForestClassifier(random_state=42))\n",
    "    ])\n",
    "\n",
    "    return pipeline"
   ]
  },
  {
   "cell_type": "code",
   "execution_count": 26,
   "id": "359c746e",
   "metadata": {},
   "outputs": [],
   "source": [
    "\"Paso 4: Optimización de los hiperparámetros\"\n",
    "def make_grid_search(pipeline, X_train, y_train):\n",
    "    param_grid = {\n",
    "    \"rf__n_estimators\": [100, 200],\n",
    "    \"rf__max_depth\": [5, 10, None],\n",
    "    \"rf__min_samples_split\": [2, 5],\n",
    "    \"rf__min_samples_leaf\": [1, 2]\n",
    "    \n",
    "    }\n",
    "\n",
    "    grid = GridSearchCV(\n",
    "    pipeline,\n",
    "    param_grid,\n",
    "    cv = 10,\n",
    "    scoring=\"balanced_accuracy\",\n",
    "    n_jobs=-1,\n",
    "    verbose=1\n",
    "    )\n",
    "    grid.fit(X_train, y_train)\n",
    "\n",
    "    return grid"
   ]
  },
  {
   "cell_type": "code",
   "execution_count": null,
   "id": "56e57407",
   "metadata": {},
   "outputs": [
    {
     "ename": "NameError",
     "evalue": "name 'estimator' is not defined",
     "output_type": "error",
     "traceback": [
      "\u001b[31m---------------------------------------------------------------------------\u001b[39m",
      "\u001b[31mNameError\u001b[39m                                 Traceback (most recent call last)",
      "\u001b[36mCell\u001b[39m\u001b[36m \u001b[39m\u001b[32mIn[29]\u001b[39m\u001b[32m, line 9\u001b[39m\n\u001b[32m      6\u001b[39m model_file = os.path.join(models_path, \u001b[33m\"\u001b[39m\u001b[33mmodel.pkl.gz\u001b[39m\u001b[33m\"\u001b[39m)\n\u001b[32m      8\u001b[39m \u001b[38;5;28;01mwith\u001b[39;00m gzip.open(model_file, \u001b[33m\"\u001b[39m\u001b[33mwb\u001b[39m\u001b[33m\"\u001b[39m) \u001b[38;5;28;01mas\u001b[39;00m file:\n\u001b[32m----> \u001b[39m\u001b[32m9\u001b[39m     pickle.dump(\u001b[43mestimator\u001b[49m, file)  \n",
      "\u001b[31mNameError\u001b[39m: name 'estimator' is not defined"
     ]
    }
   ],
   "source": [
    "\"Paso 5: Guardar Modelo\"\n",
    "def save_estimator(estimator):\n",
    "    models_path = \"/files/models\"\n",
    "    os.makedirs(models_path, exist_ok=True)\n",
    "\n",
    "    model_file = os.path.join(models_path, \"model.pkl.gz\")\n",
    "\n",
    "    with gzip.open(model_file, \"wb\") as file:\n",
    "        pickle.dump(estimator, file)  "
   ]
  }
 ],
 "metadata": {
  "kernelspec": {
   "display_name": ".venv (3.13.2)",
   "language": "python",
   "name": "python3"
  },
  "language_info": {
   "codemirror_mode": {
    "name": "ipython",
    "version": 3
   },
   "file_extension": ".py",
   "mimetype": "text/x-python",
   "name": "python",
   "nbconvert_exporter": "python",
   "pygments_lexer": "ipython3",
   "version": "3.13.2"
  }
 },
 "nbformat": 4,
 "nbformat_minor": 5
}
